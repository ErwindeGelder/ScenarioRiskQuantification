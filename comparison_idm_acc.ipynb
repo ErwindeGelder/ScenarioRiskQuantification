{
 "cells": [
  {
   "cell_type": "markdown",
   "id": "781ce580",
   "metadata": {},
   "source": [
    "## Comparing simulation of IDM with simulation of ACC"
   ]
  },
  {
   "cell_type": "code",
   "execution_count": null,
   "id": "aef3affd",
   "metadata": {},
   "outputs": [],
   "source": [
    "# Do the necessary imports\n",
    "import matplotlib.pyplot as plt\n",
    "import numpy as np\n",
    "from simulation import SimulationLeadBraking, IDMPlus, idm_lead_braking_pars, ACC, \\\n",
    "    acc_lead_braking_pars, SimulationApproaching, idm_approaching_pars, acc_approaching_pars, \\\n",
    "    SimulationCutIn, idm_cutin_pars, acc_cutin_pars"
   ]
  },
  {
   "cell_type": "markdown",
   "id": "c7676a8a",
   "metadata": {},
   "source": [
    "## Functions for comparison"
   ]
  },
  {
   "cell_type": "code",
   "execution_count": null,
   "id": "cacb792f",
   "metadata": {},
   "outputs": [],
   "source": [
    "def get_features_sim_data(data):\n",
    "    \"\"\" Get all kinds of features from the simulation data. \n",
    "    \n",
    "    The following information is extracted.\n",
    "    - Root mean square of the acceleration\n",
    "    - Maximum acceleration\n",
    "    - Minimum acceleration\n",
    "    - Mean speed\n",
    "    - Minimum gap\n",
    "    - Minimum THW\n",
    "    - Minimum TTC (maximum set at 10 seconds)\n",
    "    \n",
    "    :param data: The data obtained from StringSimulator.simulation.\n",
    "    :return: Vector with information as described above.\n",
    "    \"\"\"\n",
    "    ego_acceleration = data[:, 1, 2]\n",
    "    ego_speed = data[:, 1, 1]\n",
    "    lead_speed = data[:, 0, 1]\n",
    "    gap = data[:, 0, 0] - data[:, 1, 0]\n",
    "    gap[gap < 0] = 0\n",
    "    indices_ttc = ego_speed > lead_speed\n",
    "    features = [\n",
    "        np.sqrt(np.mean(ego_acceleration**2)),  # RMS acceleration\n",
    "        np.max(ego_acceleration),  # Maximum acceleration\n",
    "        np.min(ego_acceleration),  # Minimum acceleration\n",
    "        np.mean(ego_speed),  # Mean speed\n",
    "        np.min(gap),  # Minimum gap\n",
    "        np.min(gap[ego_speed > 0] / ego_speed[ego_speed > 0]),  # Minimum THW\n",
    "        10 if not np.any(indices_ttc) else \\\n",
    "            min(np.min(gap[indices_ttc] / (ego_speed[indices_ttc] - lead_speed[indices_ttc])), \n",
    "                10)  # Minimum TTC\n",
    "    ]\n",
    "    return np.array(features)"
   ]
  },
  {
   "cell_type": "code",
   "execution_count": null,
   "id": "3e73171d",
   "metadata": {},
   "outputs": [],
   "source": [
    "WEIGHTS = np.array([10, 5, 5, 1, .5, 5, 1])\n",
    "def difference(data1, data2):\n",
    "    return np.sqrt(np.sum((WEIGHTS * (get_features_sim_data(data1) - \n",
    "                                      get_features_sim_data(data2)))**2))"
   ]
  },
  {
   "cell_type": "markdown",
   "id": "fc949dc8",
   "metadata": {},
   "source": [
    "## Example leading vehicle decelerating"
   ]
  },
  {
   "cell_type": "code",
   "execution_count": null,
   "id": "05c3b899",
   "metadata": {},
   "outputs": [],
   "source": [
    "simulator_idm = SimulationLeadBraking(follower=IDMPlus(), follower_parameters=idm_lead_braking_pars,\n",
    "                                      min_simulation_time=5)\n",
    "simulator_acc = SimulationLeadBraking(follower=ACC(), follower_parameters=acc_lead_braking_pars,\n",
    "                                      min_simulation_time=5, comparison_simulator=simulator_idm)"
   ]
  },
  {
   "cell_type": "code",
   "execution_count": null,
   "id": "5226bf0c",
   "metadata": {},
   "outputs": [],
   "source": [
    "K1_ACCS = np.linspace(0.1, 1, 100)\n",
    "# Note that a small reactiontime of the \"human\" is used, because it is assumed that the \"ideal\"\n",
    "# ACC acts like a human with a superb reaction time.\n",
    "SCENARIO_PARS = dict(v0=20, amean=3, dv=10, reactiontime=0.1)\n",
    "def test_k1():\n",
    "    differences = np.zeros_like(K1_ACCS)\n",
    "    for i, k1_acc in enumerate(K1_ACCS):\n",
    "        SCENARIO_PARS.update(dict(k1_acc=k1_acc))\n",
    "        data1, data2 = simulator_acc.comparison(SCENARIO_PARS)\n",
    "        differences[i] = difference(data1, data2)\n",
    "    \n",
    "    plt.plot(K1_ACCS, differences)\n",
    "    plt.xlabel(\"Distance gain ACC\")\n",
    "    plt.ylabel(\"Difference with IDM\")\n",
    "    _ = plt.title(\"Optimum is {:.1f} at a gain of {:.2f}\".format(np.min(differences),\n",
    "                                                                 K1_ACCS[np.argmin(differences)]))\n",
    "test_k1()"
   ]
  },
  {
   "cell_type": "code",
   "execution_count": null,
   "id": "2f8c1a94",
   "metadata": {},
   "outputs": [],
   "source": [
    "K2_ACCS = np.linspace(0.02, 0.5, 100)\n",
    "SCENARIO_PARS = dict(v0=20, amean=3, dv=10, reactiontime=0.1)\n",
    "def test_k2():\n",
    "    differences = np.zeros_like(K2_ACCS)\n",
    "    for i, k2_acc in enumerate(K2_ACCS):\n",
    "        SCENARIO_PARS.update(dict(k2_acc=k2_acc))\n",
    "        data1, data2 = simulator_acc.comparison(SCENARIO_PARS)\n",
    "        differences[i] = difference(data1, data2)\n",
    "    \n",
    "    plt.plot(K2_ACCS, differences)\n",
    "    plt.xlabel(\"Speed gain ACC\")\n",
    "    plt.ylabel(\"Difference with IDM\")\n",
    "    _ = plt.title(\"Optimum is {:.1f} at a gain of {:.2f}\".format(np.min(differences),\n",
    "                                                                 K2_ACCS[np.argmin(differences)]))\n",
    "\n",
    "test_k2()\n",
    "# Note that result will most likely be difference if sensor noise is considered."
   ]
  },
  {
   "cell_type": "markdown",
   "id": "f8423b9d",
   "metadata": {},
   "source": [
    "## Example approaching slower vehicle"
   ]
  },
  {
   "cell_type": "code",
   "execution_count": null,
   "id": "a4e667c8",
   "metadata": {},
   "outputs": [],
   "source": [
    "simulator_idm = SimulationApproaching(followers=[IDMPlus()], \n",
    "                                      followers_parameters=[idm_approaching_pars],\n",
    "                                      min_simulation_time=5)\n",
    "simulator_acc = SimulationApproaching(followers=[ACC()], followers_parameters=[acc_approaching_pars],\n",
    "                                      min_simulation_time=5, comparison_simulator=simulator_idm)"
   ]
  },
  {
   "cell_type": "code",
   "execution_count": null,
   "id": "93f80de0",
   "metadata": {},
   "outputs": [],
   "source": [
    "SCENARIO_PARS = dict(vego=15, ratio_vtar_vego=0.4, reactiontime=0.1)\n",
    "test_k1()\n",
    "# Not sure what the peak is supposed to mean..."
   ]
  },
  {
   "cell_type": "code",
   "execution_count": null,
   "id": "9b54e4cb",
   "metadata": {},
   "outputs": [],
   "source": [
    "SCENARIO_PARS = dict(vego=15, ratio_vtar_vego=0.4, reactiontime=0.1)\n",
    "test_k2()"
   ]
  },
  {
   "cell_type": "markdown",
   "id": "35b2bee4",
   "metadata": {},
   "source": [
    "## Example cut-in"
   ]
  },
  {
   "cell_type": "code",
   "execution_count": null,
   "id": "a5a244a3",
   "metadata": {},
   "outputs": [],
   "source": [
    "simulator_idm = SimulationCutIn(follower=IDMPlus(), follower_parameters=idm_cutin_pars,\n",
    "                                      min_simulation_time=5)\n",
    "simulator_acc = SimulationCutIn(follower=ACC(), follower_parameters=acc_cutin_pars,\n",
    "                                min_simulation_time=5, comparison_simulator=simulator_idm)"
   ]
  },
  {
   "cell_type": "code",
   "execution_count": null,
   "id": "e7d10176",
   "metadata": {},
   "outputs": [],
   "source": [
    "SCENARIO_PARS = dict(dinit=20, vlead=10, vego=15, reactiontime=0.1)\n",
    "test_k1()"
   ]
  },
  {
   "cell_type": "code",
   "execution_count": null,
   "id": "0b881dee",
   "metadata": {},
   "outputs": [],
   "source": [
    "SCENARIO_PARS = dict(dinit=20, vlead=10, vego=15, reactiontime=0.1)\n",
    "test_k2()"
   ]
  },
  {
   "cell_type": "code",
   "execution_count": null,
   "id": "925165aa",
   "metadata": {},
   "outputs": [],
   "source": []
  }
 ],
 "metadata": {
  "kernelspec": {
   "display_name": "Python 3 (ipykernel)",
   "language": "python",
   "name": "python3"
  },
  "language_info": {
   "codemirror_mode": {
    "name": "ipython",
    "version": 3
   },
   "file_extension": ".py",
   "mimetype": "text/x-python",
   "name": "python",
   "nbconvert_exporter": "python",
   "pygments_lexer": "ipython3",
   "version": "3.9.7"
  }
 },
 "nbformat": 4,
 "nbformat_minor": 5
}
