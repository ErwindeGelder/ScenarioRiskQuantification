{
 "cells": [
  {
   "cell_type": "markdown",
   "id": "bf5fb160",
   "metadata": {},
   "source": [
    "# Risk uncertainty\n",
    "\n",
    "This is the code that is used to make the figures of the following paper:\n",
    "\n",
    "How certain are we that our automated driving system is safe?\n",
    "*Erwin de Gelder and Olaf Op den Camp*,\n",
    "In review"
   ]
  },
  {
   "cell_type": "code",
   "execution_count": null,
   "id": "7a3c2b8e",
   "metadata": {},
   "outputs": [],
   "source": [
    "# Do the necessary imports\n",
    "import os\n",
    "import matplotlib.pyplot as plt\n",
    "import numpy as np\n",
    "from uncertainty import N_HOURS, N_SIMULATIONS\n",
    "from uncertainty_lvd import UNCERTAINTY_LVD\n",
    "from uncertainty_cutin import UNCERTAINTY_CUTIN\n",
    "from uncertainty_asv import UNCERTAINTY_ASV"
   ]
  },
  {
   "cell_type": "code",
   "execution_count": null,
   "id": "f7b168f0",
   "metadata": {},
   "outputs": [],
   "source": [
    "# Colors used for the plots\n",
    "COLORS = ((220/255, 0, 0),\n",
    "          (0, 220/255, 0),\n",
    "          (0, 0, 220/255))"
   ]
  },
  {
   "cell_type": "markdown",
   "id": "dbb87e5a",
   "metadata": {},
   "source": [
    "# Exposure"
   ]
  },
  {
   "cell_type": "code",
   "execution_count": null,
   "id": "7c5a99d1",
   "metadata": {},
   "outputs": [],
   "source": [
    "means_lvd, sigmas_lvd = UNCERTAINTY_LVD.exposure_category(plot=False)\n",
    "means_cutin, sigmas_cutin = UNCERTAINTY_CUTIN.exposure_category(plot=False)\n",
    "means_asv, sigmas_asv = UNCERTAINTY_ASV.exposure_category(plot=False)"
   ]
  },
  {
   "cell_type": "code",
   "execution_count": null,
   "id": "d51c9416",
   "metadata": {},
   "outputs": [],
   "source": [
    "plt.subplots(figsize=(10, 8))\n",
    "for means, sigmas, color, name in zip((means_lvd, means_cutin, means_asv),\n",
    "                                      (sigmas_lvd, sigmas_cutin, sigmas_asv),\n",
    "                                      COLORS,\n",
    "                                      (r\"LVD\", r\"Cut-in\", r\"ASV\")):\n",
    "    plt.semilogx(N_HOURS, means, color=color, linewidth=5, label=name)\n",
    "    plt.fill_between(N_HOURS, means-sigmas, means+sigmas, facecolor=color, edgecolor=None,\n",
    "                     alpha=0.5, linewidth=0.0)\n",
    "    print(\"For n=63: {:.3f} +/- {:.3f}\".format(means[-1], sigmas[-1]))\n",
    "plt.xlim(N_HOURS[0], N_HOURS[-1])\n",
    "plt.xlabel(r\"Number of hours, $n$ [h]\")\n",
    "plt.ylabel(r\"Estimated exposure, $N/n$ [h$^{-1}$]\")\n",
    "_ = plt.legend(loc=\"center left\", bbox_to_anchor=(1.02, 0.5), frameon=False)"
   ]
  },
  {
   "cell_type": "markdown",
   "id": "07400333",
   "metadata": {},
   "source": [
    "# Uncertainty because of limited data"
   ]
  },
  {
   "cell_type": "code",
   "execution_count": null,
   "id": "953ad8fd",
   "metadata": {},
   "outputs": [],
   "source": [
    "means_lvd, sigmas_lvd = UNCERTAINTY_LVD.bootstrap_is_result2(plot=False)\n",
    "means_cutin, sigmas_cutin = UNCERTAINTY_CUTIN.bootstrap_is_result2(plot=False)\n",
    "means_asv, sigmas_asv = UNCERTAINTY_ASV.bootstrap_is_result2(plot=False)"
   ]
  },
  {
   "cell_type": "code",
   "execution_count": null,
   "id": "1313bfa8",
   "metadata": {},
   "outputs": [],
   "source": [
    "plt.subplots(figsize=(10, 8))\n",
    "for means, sigmas, color, name in zip((means_lvd, means_cutin, means_asv),\n",
    "                                      (sigmas_lvd, sigmas_cutin, sigmas_asv),\n",
    "                                      COLORS,\n",
    "                                      (r\"LVD\", r\"Cut-in\", r\"ASV\")):\n",
    "    plt.semilogx(N_HOURS, means, color=color, linewidth=5, label=name)\n",
    "    plt.fill_between(N_HOURS, means-sigmas, means+sigmas, facecolor=color, edgecolor=None,\n",
    "                     alpha=0.5, linewidth=0.0)\n",
    "    print(\"For n=63: {:.3e} +/- {:.3e}\".format(means[-1], sigmas[-1]))\n",
    "plt.xlim(N_HOURS[0], N_HOURS[-1])\n",
    "plt.ylim(0, 0.04)\n",
    "plt.xlabel(r\"Number of hours, $n$ [h]\")\n",
    "plt.ylabel(r\"Estimated crash probability, $\\mu_{\\mathrm{NIS}}$\")\n",
    "_ = plt.legend(loc=\"center left\", bbox_to_anchor=(1.02, 0.5), frameon=False)"
   ]
  },
  {
   "cell_type": "markdown",
   "id": "115c12ea",
   "metadata": {},
   "source": [
    "# Uncertainty because of limited simulations"
   ]
  },
  {
   "cell_type": "code",
   "execution_count": null,
   "id": "db80fdbb",
   "metadata": {},
   "outputs": [],
   "source": [
    "means_lvd, sigmas_lvd = UNCERTAINTY_LVD.vary_simulations(plot=False)\n",
    "means_cutin, sigmas_cutin = UNCERTAINTY_CUTIN.vary_simulations(plot=False)\n",
    "means_asv, sigmas_asv = UNCERTAINTY_ASV.vary_simulations(plot=False)"
   ]
  },
  {
   "cell_type": "code",
   "execution_count": null,
   "id": "3ff943c8",
   "metadata": {},
   "outputs": [],
   "source": [
    "plt.subplots(figsize=(10, 8))\n",
    "for means, sigmas, color, name in zip((means_lvd, means_cutin, means_asv),\n",
    "                                      (sigmas_lvd, sigmas_cutin, sigmas_asv),\n",
    "                                      COLORS,\n",
    "                                      (r\"LVD\", r\"Cut-in\", r\"ASV\")):\n",
    "    plt.semilogx(N_SIMULATIONS, means, color=color, linewidth=5, label=name)\n",
    "    plt.fill_between(N_SIMULATIONS, means-sigmas, means+sigmas, facecolor=color, \n",
    "                     edgecolor=None, alpha=0.5, linewidth=0.0)\n",
    "    print(\"For n=63: {:.3e} +/- {:.3e}\".format(means[-1], sigmas[-1]))\n",
    "plt.xlim(N_SIMULATIONS[0], N_SIMULATIONS[-1])\n",
    "plt.xlabel(r\"Number of simulations with importance sampling, $N_{\\mathrm{NIS}}$\")\n",
    "plt.ylabel(r\"Estimated crash probability, $\\mu_{\\mathrm{NIS}}$\")\n",
    "_ = plt.legend(loc=\"center left\", bbox_to_anchor=(1.02, 0.5), frameon=False)"
   ]
  },
  {
   "cell_type": "markdown",
   "id": "43c5a87c",
   "metadata": {},
   "source": [
    "# Risk"
   ]
  },
  {
   "cell_type": "code",
   "execution_count": null,
   "id": "80eefedd",
   "metadata": {},
   "outputs": [],
   "source": [
    "means_lvd, sigmas_lvd = UNCERTAINTY_LVD.total_variance_hours(plot=False)\n",
    "means_cutin, sigmas_cutin = UNCERTAINTY_CUTIN.total_variance_hours(plot=False)\n",
    "means_asv, sigmas_asv = UNCERTAINTY_ASV.total_variance_hours(plot=False)"
   ]
  },
  {
   "cell_type": "code",
   "execution_count": null,
   "id": "935f894c",
   "metadata": {},
   "outputs": [],
   "source": [
    "plt.subplots(figsize=(10, 8))\n",
    "for means, sigmas, color, name in zip((means_lvd, means_cutin, means_asv),\n",
    "                                      (sigmas_lvd, sigmas_cutin, sigmas_asv),\n",
    "                                      COLORS,\n",
    "                                      (r\"LVD\", r\"Cut-in\", r\"ASV\")):\n",
    "    plt.semilogx(N_HOURS, means, color=color, linewidth=5, label=name)\n",
    "    plt.fill_between(N_HOURS, means-sigmas, means+sigmas, facecolor=color, \n",
    "                     edgecolor=None, alpha=0.5, linewidth=0.0)\n",
    "plt.xlim(N_HOURS[0], N_HOURS[-1])\n",
    "plt.ylim(0, 0.32)\n",
    "plt.xlabel(r\"Number of hours, \\$\\numberofhours\\$ [\\si{\\hour}]\")\n",
    "plt.ylabel(r\"Estimated risk, $\\mathrm{RISK}(C)$ [h$^{-1}$]\")\n",
    "_ = plt.legend(loc=\"center left\", bbox_to_anchor=(1.02, 0.5), frameon=False)"
   ]
  }
 ],
 "metadata": {
  "kernelspec": {
   "display_name": "Python 3 (ipykernel)",
   "language": "python",
   "name": "python3"
  },
  "language_info": {
   "codemirror_mode": {
    "name": "ipython",
    "version": 3
   },
   "file_extension": ".py",
   "mimetype": "text/x-python",
   "name": "python",
   "nbconvert_exporter": "python",
   "pygments_lexer": "ipython3",
   "version": "3.9.7"
  }
 },
 "nbformat": 4,
 "nbformat_minor": 5
}
