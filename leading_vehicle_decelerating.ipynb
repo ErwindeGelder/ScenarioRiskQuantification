{
 "cells": [
  {
   "cell_type": "markdown",
   "metadata": {},
   "source": [
    "# Scenario risk quantification for \"leading vehicle decelerating\""
   ]
  },
  {
   "cell_type": "code",
   "execution_count": null,
   "metadata": {},
   "outputs": [],
   "source": [
    "# Do the necessary imports\n",
    "import os\n",
    "import numpy as np\n",
    "from domain_model import DocumentManagement\n",
    "from simulation import SimulationLeadBraking, acc_lead_braking_pars, acc_idm_lead_braking_pars, \\\n",
    "    IDMPlus, ACC, ACCIDMPlus, KDE, kde_from_file\n",
    "from case_study import get_kpi, case_study, CaseStudy, sample_reactiontime, reactiontime_density"
   ]
  },
  {
   "cell_type": "code",
   "execution_count": null,
   "metadata": {},
   "outputs": [],
   "source": [
    "# By default, do not overwrite previous results. Set to True to rerun all simulations.\n",
    "OVERWRITE = False"
   ]
  },
  {
   "cell_type": "markdown",
   "metadata": {},
   "source": [
    "## Several simulations"
   ]
  },
  {
   "cell_type": "markdown",
   "metadata": {},
   "source": [
    "Below, two simulations are performed. One in which the ego vehicle is controlled by the ACC, and one in which the human (modelled using IDM+) can take over. Note the difference in the acceleration after around 8 seconds: this is the point where the human takes over control.\n"
   ]
  },
  {
   "cell_type": "code",
   "execution_count": null,
   "metadata": {},
   "outputs": [],
   "source": [
    "simulator_acc = SimulationLeadBraking(follower=ACC(), follower_parameters=acc_lead_braking_pars)\n",
    "simulator_acc.simulation(dict(v0=20, amean=3, dv=10), plot=True)"
   ]
  },
  {
   "cell_type": "code",
   "execution_count": null,
   "metadata": {},
   "outputs": [],
   "source": [
    "simulator_accidm = SimulationLeadBraking(follower=ACCIDMPlus(), \n",
    "                                         follower_parameters=acc_idm_lead_braking_pars)\n",
    "simulator_accidm.simulation(dict(v0=20, amean=3, dv=10, reactiontime=1), plot=True)"
   ]
  },
  {
   "cell_type": "markdown",
   "metadata": {},
   "source": [
    "Let's now limit the deceleration of the ego vehicle. The minimum distance/TTC becomes a bit lower, but not yet something to worry about."
   ]
  },
  {
   "cell_type": "code",
   "execution_count": null,
   "metadata": {},
   "outputs": [],
   "source": [
    "simulator_accidm.simulation(dict(v0=20, amean=3, dv=10, reactiontime=1, amin=-3), plot=True)"
   ]
  },
  {
   "cell_type": "markdown",
   "metadata": {},
   "source": [
    "Let's limit the viewing range of the ego vehicle. This only has an effect if we limit the viewing range extremely, because the leading vehicle is always quite close. Note that the driver now takes over at about 9 seconds into the simulation instead of 8 seconds."
   ]
  },
  {
   "cell_type": "code",
   "execution_count": null,
   "metadata": {},
   "outputs": [],
   "source": [
    "simulator_accidm.simulation(dict(v0=20, amean=3, dv=10, reactiontime=1, max_view=15), plot=True)"
   ]
  },
  {
   "cell_type": "markdown",
   "metadata": {},
   "source": [
    "## Create KDE of scenario parameters"
   ]
  },
  {
   "cell_type": "code",
   "execution_count": null,
   "metadata": {},
   "outputs": [],
   "source": [
    "# Load the data with the scenarios.\n",
    "scenarios = DocumentManagement(os.path.join(\"data\", \"scenarios\", \"leading_vehicle_braking.json\"))\n",
    "print(\"Number of leading vehicle decelerating scenarios: {:d}\"\n",
    "      .format(len(scenarios.collections[\"scenario\"])))"
   ]
  },
  {
   "cell_type": "code",
   "execution_count": null,
   "metadata": {},
   "outputs": [],
   "source": [
    "filename = os.path.join(\"data\", \"kde\", \"leading_vehicle_decelerating.p\")\n",
    "if os.path.exists(filename) and not OVERWRITE:\n",
    "    kde = kde_from_file(filename)\n",
    "else:\n",
    "    pars = []\n",
    "    for key in scenarios.collections[\"scenario\"]:\n",
    "        scenario = scenarios.get_item(\"scenario\", key)\n",
    "        \n",
    "        vstart, vdiff, amean = 0, 0, 0\n",
    "        for activity in scenario.activities:\n",
    "            if activity.name == \"deceleration target\":\n",
    "                vstart, vend = activity.get_state(time=[activity.get_tstart(), \n",
    "                                                        activity.get_tend()])[0]\n",
    "                vdiff = vstart-vend\n",
    "                amean = vdiff/(activity.get_tend()-activity.get_tstart())\n",
    "                break\n",
    "\n",
    "        pars.append([vstart, amean, vdiff])\n",
    "\n",
    "    kde = KDE(np.array(pars))\n",
    "    kde.compute_bandwidth()\n",
    "    kde.pickle(filename)"
   ]
  },
  {
   "cell_type": "markdown",
   "metadata": {},
   "source": [
    "## Perform the case study"
   ]
  },
  {
   "cell_type": "markdown",
   "metadata": {},
   "source": [
    "#### Some functions that are needed"
   ]
  },
  {
   "cell_type": "code",
   "execution_count": null,
   "metadata": {},
   "outputs": [],
   "source": [
    "# Function that checks if the scenario parameters are valid.\n",
    "def check_pars(pars):\n",
    "    if pars[2] <= 0 or pars[2] > pars[0] or pars[1] <= 0:  # dv<0, vend>=0, amean>0\n",
    "        return False\n",
    "    if len(pars) > 3 and pars[3] <= 0:\n",
    "        return False\n",
    "    return True\n",
    "\n",
    "# Function for sampling the parameters in case the ACC model is used.\n",
    "def func_sample_acc():\n",
    "    return kde.sample()[0]\n",
    "\n",
    "# Function for sampling the parameters in case the ACCIDMPlus model is used.\n",
    "def func_sample_accidmplus():\n",
    "    return np.concatenate((kde.sample()[0], [sample_reactiontime()]))\n",
    "\n",
    "# Function for obtaining the pdf of the parameters in case the ACC model is used.\n",
    "def func_density_acc(pars):\n",
    "    return kde.score_samples(pars)\n",
    "\n",
    "# Function for obtaining the pdf of the parameters in case the ACCIDMPlus model is used.\n",
    "def func_density_accidm(pars):\n",
    "    return kde.score_samples(pars[:, :3]) * reactiontime_density(pars[:, 3])"
   ]
  },
  {
   "cell_type": "markdown",
   "metadata": {},
   "source": [
    "#### With ACC, no triggering condition"
   ]
  },
  {
   "cell_type": "code",
   "execution_count": null,
   "metadata": {},
   "outputs": [],
   "source": [
    "default_parameters = dict(n=10000,\n",
    "                          default_parameters=dict(amin=-6),\n",
    "                          percentile=2,\n",
    "                          func_validity_check=check_pars,\n",
    "                          func_process_result=get_kpi)"
   ]
  },
  {
   "cell_type": "code",
   "execution_count": null,
   "metadata": {},
   "outputs": [],
   "source": [
    "pars_acc = dict(name=\"leading_vehicle_decelerating_acc\",\n",
    "                parameters=[\"v0\", \"amean\", \"dv\"],\n",
    "                simulator=simulator_acc,\n",
    "                func_sample=func_sample_acc,\n",
    "                func_density=func_density_acc)\n",
    "pars_acc.update(default_parameters)\n",
    "df_mc, df_is = case_study(CaseStudy(**pars_acc), overwrite=OVERWRITE)"
   ]
  },
  {
   "cell_type": "markdown",
   "metadata": {},
   "source": [
    "#### With ACC & IDM+, no triggering condition"
   ]
  },
  {
   "cell_type": "code",
   "execution_count": null,
   "metadata": {},
   "outputs": [],
   "source": [
    "pars_accidm = dict(name=\"leading_vehicle_decelerating_accidm\",\n",
    "                   parameters=[\"v0\", \"amean\", \"dv\", \"reactiontime\"],\n",
    "                   simulator=simulator_accidm,\n",
    "                   func_sample=func_sample_accidmplus,\n",
    "                   func_density=func_density_accidm)\n",
    "pars_accidm.update(default_parameters)\n",
    "_ = case_study(CaseStudy(**pars_accidm), overwrite=OVERWRITE)"
   ]
  },
  {
   "cell_type": "markdown",
   "metadata": {},
   "source": [
    "#### With ACC, triggering condition: low $\\mu$"
   ]
  },
  {
   "cell_type": "code",
   "execution_count": null,
   "metadata": {},
   "outputs": [],
   "source": [
    "AMIN = -3  # Corresponding to mu=0.3"
   ]
  },
  {
   "cell_type": "code",
   "execution_count": null,
   "metadata": {},
   "outputs": [],
   "source": [
    "pars = pars_acc.copy()\n",
    "pars[\"default_parameters\"] = dict(amin=AMIN)\n",
    "pars[\"name\"] = \"lowmu_leading_vehicle_decelerating_acc\"\n",
    "df_mc, df_is = case_study(CaseStudy(**pars), overwrite=OVERWRITE)"
   ]
  },
  {
   "cell_type": "markdown",
   "metadata": {},
   "source": [
    "#### With ACC & IDM+, triggering condition: low $\\mu$"
   ]
  },
  {
   "cell_type": "code",
   "execution_count": null,
   "metadata": {},
   "outputs": [],
   "source": [
    "pars = pars_accidm.copy()\n",
    "pars[\"default_parameters\"] = dict(amin=AMIN)\n",
    "pars[\"name\"] = \"lowmu_leading_vehicle_decelerating_accidm\"\n",
    "df_mc, df_is = case_study(CaseStudy(**pars), overwrite=OVERWRITE)"
   ]
  },
  {
   "cell_type": "markdown",
   "metadata": {},
   "source": [
    "#### With ACC, triggering condition: low visibility\n",
    "\n",
    "Result is exactly the same as without this triggering condition, so no need to redo the simulations"
   ]
  },
  {
   "cell_type": "code",
   "execution_count": null,
   "metadata": {},
   "outputs": [],
   "source": [
    "MAX_VIEW = 60  # [m]"
   ]
  },
  {
   "cell_type": "code",
   "execution_count": null,
   "metadata": {},
   "outputs": [],
   "source": [
    "df_mc, df_is = case_study(CaseStudy(**pars_acc), overwrite=False)"
   ]
  },
  {
   "cell_type": "markdown",
   "metadata": {},
   "source": [
    "#### With ACC & IDM+, triggering condition: low visibility"
   ]
  },
  {
   "cell_type": "code",
   "execution_count": null,
   "metadata": {},
   "outputs": [],
   "source": [
    "pars = pars_accidm.copy()\n",
    "pars[\"default_parameters\"] = dict(max_view=MAX_VIEW)\n",
    "pars[\"name\"] = \"late_leading_vehicle_decelerating_accidm\"\n",
    "df_mc, df_is = case_study(CaseStudy(**pars), overwrite=OVERWRITE)"
   ]
  }
 ],
 "metadata": {
  "kernelspec": {
   "display_name": "Python 3",
   "language": "python",
   "name": "python3"
  },
  "language_info": {
   "codemirror_mode": {
    "name": "ipython",
    "version": 3
   },
   "file_extension": ".py",
   "mimetype": "text/x-python",
   "name": "python",
   "nbconvert_exporter": "python",
   "pygments_lexer": "ipython3",
   "version": "3.7.3"
  }
 },
 "nbformat": 4,
 "nbformat_minor": 2
}
